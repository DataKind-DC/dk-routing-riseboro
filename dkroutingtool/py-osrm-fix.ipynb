{
 "cells": [
  {
   "cell_type": "code",
   "execution_count": 5,
   "metadata": {},
   "outputs": [
    {
     "name": "stdout",
     "output_type": "stream",
     "text": [
      "Collecting matplotlib\n",
      "  Downloading matplotlib-3.7.3-cp38-cp38-manylinux_2_12_x86_64.manylinux2010_x86_64.whl (9.2 MB)\n",
      "\u001b[2K     \u001b[90m━━━━━━━━━━━━━━━━━━━━━━━━━━━━━━━━━━━━━━━━\u001b[0m \u001b[32m9.2/9.2 MB\u001b[0m \u001b[31m38.2 MB/s\u001b[0m eta \u001b[36m0:00:00\u001b[0m00:01\u001b[0m00:01\u001b[0m\n",
      "\u001b[?25hRequirement already satisfied: pyparsing>=2.3.1 in /opt/conda/lib/python3.8/site-packages (from matplotlib) (3.1.1)\n",
      "Collecting pillow>=6.2.0\n",
      "  Downloading Pillow-10.0.1-cp38-cp38-manylinux_2_28_x86_64.whl (3.6 MB)\n",
      "\u001b[2K     \u001b[90m━━━━━━━━━━━━━━━━━━━━━━━━━━━━━━━━━━━━━━━━\u001b[0m \u001b[32m3.6/3.6 MB\u001b[0m \u001b[31m36.7 MB/s\u001b[0m eta \u001b[36m0:00:00\u001b[0m00:01\u001b[0m00:01\u001b[0m\n",
      "\u001b[?25hCollecting cycler>=0.10\n",
      "  Downloading cycler-0.12.1-py3-none-any.whl (8.3 kB)\n",
      "Collecting contourpy>=1.0.1\n",
      "  Downloading contourpy-1.1.1-cp38-cp38-manylinux_2_17_x86_64.manylinux2014_x86_64.whl (301 kB)\n",
      "\u001b[2K     \u001b[90m━━━━━━━━━━━━━━━━━━━━━━━━━━━━━━━━━━━━━━\u001b[0m \u001b[32m301.1/301.1 kB\u001b[0m \u001b[31m27.8 MB/s\u001b[0m eta \u001b[36m0:00:00\u001b[0m\n",
      "\u001b[?25hRequirement already satisfied: importlib-resources>=3.2.0 in /opt/conda/lib/python3.8/site-packages (from matplotlib) (6.1.0)\n",
      "Requirement already satisfied: python-dateutil>=2.7 in /opt/conda/lib/python3.8/site-packages (from matplotlib) (2.8.0)\n",
      "Collecting kiwisolver>=1.0.1\n",
      "  Downloading kiwisolver-1.4.5-cp38-cp38-manylinux_2_5_x86_64.manylinux1_x86_64.whl (1.2 MB)\n",
      "\u001b[2K     \u001b[90m━━━━━━━━━━━━━━━━━━━━━━━━━━━━━━━━━━━━━━━━\u001b[0m \u001b[32m1.2/1.2 MB\u001b[0m \u001b[31m41.8 MB/s\u001b[0m eta \u001b[36m0:00:00\u001b[0m\n",
      "\u001b[?25hCollecting fonttools>=4.22.0\n",
      "  Downloading fonttools-4.43.1-cp38-cp38-manylinux_2_17_x86_64.manylinux2014_x86_64.whl (4.6 MB)\n",
      "\u001b[2K     \u001b[90m━━━━━━━━━━━━━━━━━━━━━━━━━━━━━━━━━━━━━━━━\u001b[0m \u001b[32m4.6/4.6 MB\u001b[0m \u001b[31m16.0 MB/s\u001b[0m eta \u001b[36m0:00:00\u001b[0m00:01\u001b[0m00:01\u001b[0m\n",
      "\u001b[?25hRequirement already satisfied: packaging>=20.0 in /opt/conda/lib/python3.8/site-packages (from matplotlib) (23.2)\n",
      "Collecting numpy<2,>=1.20\n",
      "  Downloading numpy-1.24.4-cp38-cp38-manylinux_2_17_x86_64.manylinux2014_x86_64.whl (17.3 MB)\n",
      "\u001b[2K     \u001b[90m━━━━━━━━━━━━━━━━━━━━━━━━━━━━━━━━━━━━━━━━\u001b[0m \u001b[32m17.3/17.3 MB\u001b[0m \u001b[31m34.5 MB/s\u001b[0m eta \u001b[36m0:00:00\u001b[0m00:01\u001b[0m00:01\u001b[0m\n",
      "\u001b[?25hRequirement already satisfied: zipp>=3.1.0 in /opt/conda/lib/python3.8/site-packages (from importlib-resources>=3.2.0->matplotlib) (3.17.0)\n",
      "Requirement already satisfied: six>=1.5 in /opt/conda/lib/python3.8/site-packages (from python-dateutil>=2.7->matplotlib) (1.13.0)\n",
      "Installing collected packages: pillow, numpy, kiwisolver, fonttools, cycler, contourpy, matplotlib\n",
      "  Attempting uninstall: numpy\n",
      "    Found existing installation: numpy 1.19.0\n",
      "    Uninstalling numpy-1.19.0:\n",
      "      Successfully uninstalled numpy-1.19.0\n",
      "Successfully installed contourpy-1.1.1 cycler-0.12.1 fonttools-4.43.1 kiwisolver-1.4.5 matplotlib-3.7.3 numpy-1.24.4 pillow-10.0.1\n",
      "\u001b[33mWARNING: Running pip as the 'root' user can result in broken permissions and conflicting behaviour with the system package manager. It is recommended to use a virtual environment instead: https://pip.pypa.io/warnings/venv\u001b[0m\u001b[33m\n",
      "\u001b[0m"
     ]
    }
   ],
   "source": [
    "!pip install matplotlib"
   ]
  },
  {
   "cell_type": "code",
   "execution_count": 6,
   "metadata": {},
   "outputs": [
    {
     "ename": "ImportError",
     "evalue": "Matplotlib requires numpy>=1.20; you have 1.19.0",
     "output_type": "error",
     "traceback": [
      "\u001b[0;31m---------------------------------------------------------------------------\u001b[0m",
      "\u001b[0;31mImportError\u001b[0m                               Traceback (most recent call last)",
      "\u001b[0;32m<ipython-input-6-178852ac5be3>\u001b[0m in \u001b[0;36m<module>\u001b[0;34m\u001b[0m\n\u001b[0;32m----> 1\u001b[0;31m \u001b[0;32mimport\u001b[0m \u001b[0mmatplotlib\u001b[0m\u001b[0;34m\u001b[0m\u001b[0;34m\u001b[0m\u001b[0m\n\u001b[0m\u001b[1;32m      2\u001b[0m \u001b[0;32mfrom\u001b[0m \u001b[0mmatplotlib\u001b[0m \u001b[0;32mimport\u001b[0m \u001b[0mpyplot\u001b[0m\u001b[0;34m\u001b[0m\u001b[0;34m\u001b[0m\u001b[0m\n",
      "\u001b[0;32m/opt/conda/lib/python3.8/site-packages/matplotlib/__init__.py\u001b[0m in \u001b[0;36m<module>\u001b[0;34m\u001b[0m\n\u001b[1;32m    225\u001b[0m \u001b[0;34m\u001b[0m\u001b[0m\n\u001b[1;32m    226\u001b[0m \u001b[0;34m\u001b[0m\u001b[0m\n\u001b[0;32m--> 227\u001b[0;31m \u001b[0m_check_versions\u001b[0m\u001b[0;34m(\u001b[0m\u001b[0;34m)\u001b[0m\u001b[0;34m\u001b[0m\u001b[0;34m\u001b[0m\u001b[0m\n\u001b[0m\u001b[1;32m    228\u001b[0m \u001b[0;34m\u001b[0m\u001b[0m\n\u001b[1;32m    229\u001b[0m \u001b[0;34m\u001b[0m\u001b[0m\n",
      "\u001b[0;32m/opt/conda/lib/python3.8/site-packages/matplotlib/__init__.py\u001b[0m in \u001b[0;36m_check_versions\u001b[0;34m()\u001b[0m\n\u001b[1;32m    221\u001b[0m         \u001b[0mmodule\u001b[0m \u001b[0;34m=\u001b[0m \u001b[0mimportlib\u001b[0m\u001b[0;34m.\u001b[0m\u001b[0mimport_module\u001b[0m\u001b[0;34m(\u001b[0m\u001b[0mmodname\u001b[0m\u001b[0;34m)\u001b[0m\u001b[0;34m\u001b[0m\u001b[0;34m\u001b[0m\u001b[0m\n\u001b[1;32m    222\u001b[0m         \u001b[0;32mif\u001b[0m \u001b[0mparse_version\u001b[0m\u001b[0;34m(\u001b[0m\u001b[0mmodule\u001b[0m\u001b[0;34m.\u001b[0m\u001b[0m__version__\u001b[0m\u001b[0;34m)\u001b[0m \u001b[0;34m<\u001b[0m \u001b[0mparse_version\u001b[0m\u001b[0;34m(\u001b[0m\u001b[0mminver\u001b[0m\u001b[0;34m)\u001b[0m\u001b[0;34m:\u001b[0m\u001b[0;34m\u001b[0m\u001b[0;34m\u001b[0m\u001b[0m\n\u001b[0;32m--> 223\u001b[0;31m             raise ImportError(f\"Matplotlib requires {modname}>={minver}; \"\n\u001b[0m\u001b[1;32m    224\u001b[0m                               f\"you have {module.__version__}\")\n\u001b[1;32m    225\u001b[0m \u001b[0;34m\u001b[0m\u001b[0m\n",
      "\u001b[0;31mImportError\u001b[0m: Matplotlib requires numpy>=1.20; you have 1.19.0"
     ]
    }
   ],
   "source": [
    "import matplotlib\n",
    "from matplotlib import pyplot"
   ]
  },
  {
   "cell_type": "code",
   "execution_count": 1,
   "metadata": {},
   "outputs": [],
   "source": [
    "import numpy as np\n",
    "import ujson\n",
    "import pandas as pd\n",
    "import itertools"
   ]
  },
  {
   "cell_type": "code",
   "execution_count": 3,
   "metadata": {},
   "outputs": [
    {
     "name": "stdout",
     "output_type": "stream",
     "text": [
      "Collecting rasterio\n",
      "  Downloading rasterio-1.3.8.post2-cp38-cp38-manylinux2014_x86_64.whl (20.7 MB)\n",
      "\u001b[2K     \u001b[90m━━━━━━━━━━━━━━━━━━━━━━━━━━━━━━━━━━━━━━━━\u001b[0m \u001b[32m20.7/20.7 MB\u001b[0m \u001b[31m36.9 MB/s\u001b[0m eta \u001b[36m0:00:00\u001b[0m00:01\u001b[0m00:01\u001b[0m\n",
      "\u001b[?25hCollecting affine\n",
      "  Downloading affine-2.4.0-py3-none-any.whl (15 kB)\n",
      "Requirement already satisfied: attrs in /opt/conda/lib/python3.8/site-packages (from rasterio) (23.1.0)\n",
      "Requirement already satisfied: numpy in /opt/conda/lib/python3.8/site-packages (from rasterio) (1.19.0)\n",
      "Collecting snuggs>=1.4.1\n",
      "  Downloading snuggs-1.4.7-py3-none-any.whl (5.4 kB)\n",
      "Requirement already satisfied: certifi in /opt/conda/lib/python3.8/site-packages (from rasterio) (2023.7.22)\n",
      "Requirement already satisfied: click>=4.0 in /opt/conda/lib/python3.8/site-packages (from rasterio) (8.1.7)\n",
      "Collecting cligj>=0.5\n",
      "  Downloading cligj-0.7.2-py3-none-any.whl (7.1 kB)\n",
      "Collecting click-plugins\n",
      "  Downloading click_plugins-1.1.1-py2.py3-none-any.whl (7.5 kB)\n",
      "Requirement already satisfied: setuptools in /opt/conda/lib/python3.8/site-packages (from rasterio) (65.5.0)\n",
      "Requirement already satisfied: pyparsing>=2.1.6 in /opt/conda/lib/python3.8/site-packages (from snuggs>=1.4.1->rasterio) (3.1.1)\n",
      "Installing collected packages: snuggs, cligj, click-plugins, affine, rasterio\n",
      "Successfully installed affine-2.4.0 click-plugins-1.1.1 cligj-0.7.2 rasterio-1.3.8.post2 snuggs-1.4.7\n",
      "\u001b[33mWARNING: Running pip as the 'root' user can result in broken permissions and conflicting behaviour with the system package manager. It is recommended to use a virtual environment instead: https://pip.pypa.io/warnings/venv\u001b[0m\u001b[33m\n",
      "\u001b[0m"
     ]
    }
   ],
   "source": [
    "!pip install rasterio"
   ]
  },
  {
   "cell_type": "code",
   "execution_count": 4,
   "metadata": {},
   "outputs": [],
   "source": [
    "import rasterio\n",
    "import requests"
   ]
  },
  {
   "cell_type": "code",
   "execution_count": 18,
   "metadata": {},
   "outputs": [],
   "source": [
    "from math import pi,sqrt,sin,cos,atan2\n",
    "\n",
    "def haversine(pos1, pos2):\n",
    "    lat1 = float(pos1[0])\n",
    "    long1 = float(pos1[1])\n",
    "    lat2 = float(pos2[0])\n",
    "    long2 = float(pos2[1])\n",
    "\n",
    "    degree_to_rad = float(pi / 180.0)\n",
    "\n",
    "    d_lat = (lat2 - lat1) * degree_to_rad\n",
    "    d_long = (long2 - long1) * degree_to_rad\n",
    "\n",
    "    a = pow(sin(d_lat / 2), 2) + cos(lat1 * degree_to_rad) * cos(lat2 * degree_to_rad) * pow(sin(d_long / 2), 2)\n",
    "    c = 2 * atan2(sqrt(a), sqrt(1 - a))\n",
    "    km = 6367 * c\n",
    "    mi = 3956 * c\n",
    "\n",
    "    return km"
   ]
  },
  {
   "cell_type": "code",
   "execution_count": 7,
   "metadata": {},
   "outputs": [],
   "source": [
    "def haversine_np(lon1, lat1, lon2, lat2):\n",
    "    \"\"\"\n",
    "    Calculate the great circle distance between two points\n",
    "    on the earth (specified in decimal degrees)\n",
    "    \n",
    "    All args must be of equal length.    \n",
    "    \n",
    "    \"\"\"\n",
    "    lon1, lat1, lon2, lat2 = map(np.radians, [lon1, lat1, lon2, lat2])\n",
    "    \n",
    "    dlon = lon2 - lon1\n",
    "    dlat = lat2 - lat1\n",
    "    \n",
    "    a = np.sin(dlat/2.0)**2 + np.cos(lat1) * np.cos(lat2) * np.sin(dlon/2.0)**2\n",
    "    \n",
    "    c = 2 * np.arcsin(np.sqrt(a))\n",
    "    km = 6378.137 * c\n",
    "    return km"
   ]
  },
  {
   "cell_type": "code",
   "execution_count": 8,
   "metadata": {},
   "outputs": [],
   "source": [
    "south_latmin = 43.7247599\n",
    "north_latmax = 43.7519311\n",
    "west_lonmin = 7.4090279\n",
    "east_lonmax = 7.4398704"
   ]
  },
  {
   "cell_type": "code",
   "execution_count": 9,
   "metadata": {},
   "outputs": [],
   "source": [
    "path = f'https://portal.opentopography.org/API/globaldem?demtype=COP30&south={south_latmin}&north={north_latmax}&west={west_lonmin}&east={east_lonmax}&outputFormat=GTiff&API_Key=demoapikeyot2022'\n",
    "result = requests.get(path)\n",
    "\n",
    "with open('monaco.geotiff','wb') as opened:\n",
    "    opened.write(result.content)"
   ]
  },
  {
   "cell_type": "code",
   "execution_count": null,
   "metadata": {},
   "outputs": [],
   "source": []
  },
  {
   "cell_type": "code",
   "execution_count": null,
   "metadata": {},
   "outputs": [],
   "source": []
  },
  {
   "cell_type": "code",
   "execution_count": 5,
   "metadata": {},
   "outputs": [],
   "source": [
    "import osrmbindings"
   ]
  },
  {
   "cell_type": "code",
   "execution_count": 6,
   "metadata": {},
   "outputs": [],
   "source": [
    "osrmbindings.initialize('/3wheeler/monaco-latest')"
   ]
  },
  {
   "cell_type": "code",
   "execution_count": 2,
   "metadata": {},
   "outputs": [],
   "source": [
    "st = pd.read_excel('data/customer_data.xlsx')"
   ]
  },
  {
   "cell_type": "code",
   "execution_count": 3,
   "metadata": {},
   "outputs": [
    {
     "data": {
      "text/html": [
       "<div>\n",
       "<style scoped>\n",
       "    .dataframe tbody tr th:only-of-type {\n",
       "        vertical-align: middle;\n",
       "    }\n",
       "\n",
       "    .dataframe tbody tr th {\n",
       "        vertical-align: top;\n",
       "    }\n",
       "\n",
       "    .dataframe thead th {\n",
       "        text-align: right;\n",
       "    }\n",
       "</style>\n",
       "<table border=\"1\" class=\"dataframe\">\n",
       "  <thead>\n",
       "    <tr style=\"text-align: right;\">\n",
       "      <th></th>\n",
       "      <th>N</th>\n",
       "      <th>lon</th>\n",
       "      <th>lat</th>\n",
       "      <th>id</th>\n",
       "      <th>fclass</th>\n",
       "      <th>Name</th>\n",
       "      <th>Zone</th>\n",
       "      <th>Demand</th>\n",
       "      <th>Time Windows</th>\n",
       "    </tr>\n",
       "  </thead>\n",
       "  <tbody>\n",
       "    <tr>\n",
       "      <th>0</th>\n",
       "      <td>1</td>\n",
       "      <td>7.425203</td>\n",
       "      <td>43.732781</td>\n",
       "      <td>267901435</td>\n",
       "      <td>restaurant</td>\n",
       "      <td>Stars ‚Äôn‚Äô Bars</td>\n",
       "      <td>West</td>\n",
       "      <td>4</td>\n",
       "      <td>NaN</td>\n",
       "    </tr>\n",
       "    <tr>\n",
       "      <th>1</th>\n",
       "      <td>2</td>\n",
       "      <td>7.423927</td>\n",
       "      <td>43.732524</td>\n",
       "      <td>267901573</td>\n",
       "      <td>restaurant</td>\n",
       "      <td>Quai des Artistes</td>\n",
       "      <td>West</td>\n",
       "      <td>5</td>\n",
       "      <td>NaN</td>\n",
       "    </tr>\n",
       "    <tr>\n",
       "      <th>2</th>\n",
       "      <td>3</td>\n",
       "      <td>7.420386</td>\n",
       "      <td>43.732403</td>\n",
       "      <td>274500242</td>\n",
       "      <td>restaurant</td>\n",
       "      <td>Pizzeria Mon√©gasque</td>\n",
       "      <td>West</td>\n",
       "      <td>6</td>\n",
       "      <td>NaN</td>\n",
       "    </tr>\n",
       "    <tr>\n",
       "      <th>3</th>\n",
       "      <td>4</td>\n",
       "      <td>7.422148</td>\n",
       "      <td>43.733820</td>\n",
       "      <td>321647302</td>\n",
       "      <td>restaurant</td>\n",
       "      <td>Brasserie de Monaco</td>\n",
       "      <td>West</td>\n",
       "      <td>6</td>\n",
       "      <td>NaN</td>\n",
       "    </tr>\n",
       "    <tr>\n",
       "      <th>4</th>\n",
       "      <td>5</td>\n",
       "      <td>7.421410</td>\n",
       "      <td>43.733930</td>\n",
       "      <td>954710927</td>\n",
       "      <td>restaurant</td>\n",
       "      <td>Chez Edgar</td>\n",
       "      <td>West</td>\n",
       "      <td>3</td>\n",
       "      <td>NaN</td>\n",
       "    </tr>\n",
       "    <tr>\n",
       "      <th>...</th>\n",
       "      <td>...</td>\n",
       "      <td>...</td>\n",
       "      <td>...</td>\n",
       "      <td>...</td>\n",
       "      <td>...</td>\n",
       "      <td>...</td>\n",
       "      <td>...</td>\n",
       "      <td>...</td>\n",
       "      <td>...</td>\n",
       "    </tr>\n",
       "    <tr>\n",
       "      <th>82</th>\n",
       "      <td>83</td>\n",
       "      <td>7.429562</td>\n",
       "      <td>43.742286</td>\n",
       "      <td>7926333297</td>\n",
       "      <td>restaurant</td>\n",
       "      <td>Mozza</td>\n",
       "      <td>East</td>\n",
       "      <td>1</td>\n",
       "      <td>NaN</td>\n",
       "    </tr>\n",
       "    <tr>\n",
       "      <th>83</th>\n",
       "      <td>84</td>\n",
       "      <td>7.429690</td>\n",
       "      <td>43.742246</td>\n",
       "      <td>7926333298</td>\n",
       "      <td>restaurant</td>\n",
       "      <td>Cozza</td>\n",
       "      <td>East</td>\n",
       "      <td>4</td>\n",
       "      <td>NaN</td>\n",
       "    </tr>\n",
       "    <tr>\n",
       "      <th>84</th>\n",
       "      <td>85</td>\n",
       "      <td>7.430252</td>\n",
       "      <td>43.739527</td>\n",
       "      <td>8176182650</td>\n",
       "      <td>restaurant</td>\n",
       "      <td>Horizon Deck</td>\n",
       "      <td>East</td>\n",
       "      <td>6</td>\n",
       "      <td>NaN</td>\n",
       "    </tr>\n",
       "    <tr>\n",
       "      <th>85</th>\n",
       "      <td>86</td>\n",
       "      <td>7.428925</td>\n",
       "      <td>43.737572</td>\n",
       "      <td>8269648743</td>\n",
       "      <td>restaurant</td>\n",
       "      <td>Soci√©t√© Nautique</td>\n",
       "      <td>East</td>\n",
       "      <td>2</td>\n",
       "      <td>NaN</td>\n",
       "    </tr>\n",
       "    <tr>\n",
       "      <th>86</th>\n",
       "      <td>87</td>\n",
       "      <td>7.430811</td>\n",
       "      <td>43.743662</td>\n",
       "      <td>8269726062</td>\n",
       "      <td>restaurant</td>\n",
       "      <td>Cantinetta Antinori</td>\n",
       "      <td>East</td>\n",
       "      <td>6</td>\n",
       "      <td>NaN</td>\n",
       "    </tr>\n",
       "  </tbody>\n",
       "</table>\n",
       "<p>87 rows × 9 columns</p>\n",
       "</div>"
      ],
      "text/plain": [
       "     N       lon        lat          id      fclass                  Name  \\\n",
       "0    1  7.425203  43.732781   267901435  restaurant    Stars ‚Äôn‚Äô Bars   \n",
       "1    2  7.423927  43.732524   267901573  restaurant     Quai des Artistes   \n",
       "2    3  7.420386  43.732403   274500242  restaurant  Pizzeria Mon√©gasque   \n",
       "3    4  7.422148  43.733820   321647302  restaurant   Brasserie de Monaco   \n",
       "4    5  7.421410  43.733930   954710927  restaurant            Chez Edgar   \n",
       "..  ..       ...        ...         ...         ...                   ...   \n",
       "82  83  7.429562  43.742286  7926333297  restaurant                 Mozza   \n",
       "83  84  7.429690  43.742246  7926333298  restaurant                 Cozza   \n",
       "84  85  7.430252  43.739527  8176182650  restaurant          Horizon Deck   \n",
       "85  86  7.428925  43.737572  8269648743  restaurant    Soci√©t√© Nautique   \n",
       "86  87  7.430811  43.743662  8269726062  restaurant   Cantinetta Antinori   \n",
       "\n",
       "    Zone  Demand Time Windows  \n",
       "0   West       4          NaN  \n",
       "1   West       5          NaN  \n",
       "2   West       6          NaN  \n",
       "3   West       6          NaN  \n",
       "4   West       3          NaN  \n",
       "..   ...     ...          ...  \n",
       "82  East       1          NaN  \n",
       "83  East       4          NaN  \n",
       "84  East       6          NaN  \n",
       "85  East       2          NaN  \n",
       "86  East       6          NaN  \n",
       "\n",
       "[87 rows x 9 columns]"
      ]
     },
     "execution_count": 3,
     "metadata": {},
     "output_type": "execute_result"
    }
   ],
   "source": [
    "st"
   ]
  },
  {
   "cell_type": "code",
   "execution_count": 12,
   "metadata": {},
   "outputs": [],
   "source": [
    "with rasterio.open('monaco.geotiff') as opened:\n",
    "    alt = opened.read()[0] #only one channel to extract, result is a xy array"
   ]
  },
  {
   "cell_type": "code",
   "execution_count": 4,
   "metadata": {},
   "outputs": [],
   "source": [
    "perms_iter = itertools.permutations(st.index, 2)"
   ]
  },
  {
   "cell_type": "code",
   "execution_count": 5,
   "metadata": {},
   "outputs": [],
   "source": [
    "full_perms = list(perms_iter)"
   ]
  },
  {
   "cell_type": "code",
   "execution_count": 6,
   "metadata": {},
   "outputs": [],
   "source": [
    "perms = full_perms"
   ]
  },
  {
   "cell_type": "code",
   "execution_count": 7,
   "metadata": {},
   "outputs": [
    {
     "name": "stdout",
     "output_type": "stream",
     "text": [
      "Requirement already satisfied: icecream in /opt/conda/lib/python3.8/site-packages (2.1.3)\n",
      "Requirement already satisfied: colorama>=0.3.9 in /opt/conda/lib/python3.8/site-packages (from icecream) (0.4.6)\n",
      "Requirement already satisfied: executing>=0.3.1 in /opt/conda/lib/python3.8/site-packages (from icecream) (2.0.0)\n",
      "Requirement already satisfied: asttokens>=2.0.1 in /opt/conda/lib/python3.8/site-packages (from icecream) (2.4.0)\n",
      "Requirement already satisfied: pygments>=2.2.0 in /opt/conda/lib/python3.8/site-packages (from icecream) (2.4.2)\n",
      "Requirement already satisfied: six>=1.12.0 in /opt/conda/lib/python3.8/site-packages (from asttokens>=2.0.1->icecream) (1.13.0)\n",
      "\u001b[33mWARNING: Running pip as the 'root' user can result in broken permissions and conflicting behaviour with the system package manager. It is recommended to use a virtual environment instead: https://pip.pypa.io/warnings/venv\u001b[0m\u001b[33m\n",
      "\u001b[0m"
     ]
    }
   ],
   "source": [
    "!pip install icecream"
   ]
  },
  {
   "cell_type": "code",
   "execution_count": 8,
   "metadata": {},
   "outputs": [
    {
     "data": {
      "text/plain": [
       "7482"
      ]
     },
     "execution_count": 8,
     "metadata": {},
     "output_type": "execute_result"
    }
   ],
   "source": [
    "len(perms)"
   ]
  },
  {
   "cell_type": "code",
   "execution_count": 10,
   "metadata": {},
   "outputs": [],
   "source": [
    "import osrm"
   ]
  },
  {
   "cell_type": "code",
   "execution_count": 12,
   "metadata": {},
   "outputs": [],
   "source": [
    "py_osrm = osrm.OSRM(storage_config='/3wheeler/monaco-latest', use_shared_memory=False)\n",
    "#py_osrm = osrm.OSRM(storage_config=\"pyosrm/tests/data/ch/monaco-latest.osrm\", use_shared_memory=False)"
   ]
  },
  {
   "cell_type": "code",
   "execution_count": 59,
   "metadata": {},
   "outputs": [
    {
     "name": "stdout",
     "output_type": "stream",
     "text": [
      "[{'hint': 'DwQAgBEEAIAIAAAAAAAAAA0AAAASAAAA0zW1QAAAAAB8RhBBC0NHQQgAAAAAAAAADQAAABIAAAAmAAAAoh5xAGFCmwJ6HnEAmEKbAgEA3wORKc62', 'distance': 6.908744, 'name': '', 'location': [7.413410, 43.729505]}, {'hint': 'XgAAgPoBAIAtAAAAFQAAAM8AAAAAAAAAo6dIQrjVukE9FGVDAAAAAC0AAAAVAAAAzwAAAAAAAAAmAAAAKydxAN9GmwKkJnEAUkebAgoAHwORKc62', 'distance': 16.780465, 'name': 'Avenue de Fontvieille', 'location': [7.415595, 43.730655]}]\n",
      "[{'geometry': 'm|{iGy|fl@NZW^GZs@K[YUi@gAsE}D{HkBkCAQGCGF?NLNdAx@ZNhAF~@lAXj@', 'legs': [{'steps': [], 'summary': '', 'weight': 62.200000, 'duration': 62.200000, 'distance': 667.400000}], 'weight_name': 'routability', 'weight': 62.200000, 'duration': 62.200000, 'distance': 667.400000}]\n"
     ]
    }
   ],
   "source": [
    "# Declare Route Parameters\n",
    "route_params = osrm.RouteParameters(coordinates = [(7.41337, 43.72956), (7.41546, 43.73077)])\n",
    "\n",
    "# Pass it into the py_osrm instance\n",
    "res = py_osrm.Route(route_params)\n",
    "\n",
    "# Print out result output\n",
    "print(res[\"waypoints\"])\n",
    "print(res[\"routes\"])"
   ]
  },
  {
   "cell_type": "code",
   "execution_count": 44,
   "metadata": {},
   "outputs": [
    {
     "data": {
      "text/plain": [
       "62.2"
      ]
     },
     "execution_count": 44,
     "metadata": {},
     "output_type": "execute_result"
    }
   ],
   "source": [
    "res['routes'][0]['duration']"
   ]
  },
  {
   "cell_type": "code",
   "execution_count": 35,
   "metadata": {},
   "outputs": [
    {
     "name": "stdout",
     "output_type": "stream",
     "text": [
      "[{'geometry': {'coordinates': [[7.413410, 43.729505], [7.413348, 43.729481], [7.413267, 43.729425], [7.413106, 43.729550], [7.413054, 43.729565], [7.412969, 43.729589], [7.412984, 43.729699], [7.413006, 43.729784], [7.413032, 43.729853], [7.413103, 43.729935], [7.413155, 43.729988], [7.413201, 43.730022], [7.413252, 43.730053], [7.413306, 43.730080], [7.413365, 43.730102], [7.414022, 43.730320], [7.414092, 43.730335], [7.414168, 43.730359], [7.414267, 43.730392], [7.414372, 43.730431], [7.414428, 43.730456], [7.414485, 43.730488], [7.414674, 43.730595], [7.414784, 43.730661], [7.414879, 43.730729], [7.415139, 43.730890], [7.415487, 43.731091], [7.415568, 43.731152], [7.415664, 43.731212], [7.415707, 43.731242], [7.415769, 43.731263], [7.415806, 43.731281], [7.415921, 43.731358], [7.416005, 43.731411], [7.416049, 43.731463], [7.416090, 43.731486], [7.416482, 43.731779], [7.416710, 43.731950], [7.416721, 43.731946], [7.416733, 43.731944], [7.416745, 43.731943], [7.416757, 43.731944], [7.416768, 43.731946], [7.416779, 43.731949], [7.416789, 43.731954], [7.416798, 43.731960], [7.416806, 43.731967], [7.416812, 43.731975], [7.416816, 43.731984], [7.416818, 43.731993], [7.416817, 43.732002], [7.416814, 43.732011], [7.416810, 43.732019], [7.416803, 43.732027], [7.416794, 43.732034], [7.416784, 43.732039], [7.416772, 43.732044], [7.416759, 43.732046], [7.416746, 43.732047], [7.416733, 43.732047], [7.416722, 43.732045], [7.416712, 43.732041], [7.416702, 43.732037], [7.416693, 43.732031], [7.416686, 43.732025], [7.416680, 43.732018], [7.416676, 43.732010], [7.416624, 43.731974], [7.416418, 43.731749], [7.416328, 43.731624], [7.416246, 43.731480], [7.416218, 43.731339], [7.416223, 43.731260], [7.416232, 43.731176], [7.416208, 43.731114], [7.416011, 43.730952], [7.415816, 43.730791], [7.415595, 43.730655]], 'type': 'LineString'}, 'legs': [{'steps': [], 'summary': '', 'weight': 62.200000, 'duration': 62.200000, 'distance': 667.400000}], 'weight_name': 'routability', 'weight': 62.200000, 'duration': 62.200000, 'distance': 667.400000}]\n"
     ]
    }
   ],
   "source": [
    "# Declare Route Parameters\n",
    "route_params = osrm.RouteParameters(coordinates = [(7.41337, 43.72956), (7.41546, 43.73077)], \n",
    "                                    geometries='geojson', overview='full', annotations=[], steps=False)\n",
    "\n",
    "# Pass it into the py_osrm instance\n",
    "res = py_osrm.Route(route_params)\n",
    "\n",
    "# Print out result output\n",
    "#print(res[\"waypoints\"])\n",
    "print(res[\"routes\"])"
   ]
  },
  {
   "cell_type": "code",
   "execution_count": null,
   "metadata": {},
   "outputs": [],
   "source": [
    ">>> route_params = osrm.RouteParameters(\n",
    "        coordinates = [(7.41337, 43.72956), (7.41546, 43.73077)],\n",
    "        steps = True,\n",
    "        number_of_alternatives = 3,\n",
    "        annotations = ['speed'],\n",
    "        geometries = 'polyline',\n",
    "        overview = 'simplified',\n",
    "        continue_straight = False,\n",
    "        waypoints = [0, 1],\n",
    "        radiuses = [4.07, 4.07],\n",
    "        bearings = [(200, 180), (250, 180)],\n",
    "        # approaches = ['unrestricted', 'unrestricted'],\n",
    "        generate_hints = False,\n",
    "        exclude = ['motorway'],\n",
    "        snapping = 'any'\n",
    "    )"
   ]
  },
  {
   "cell_type": "code",
   "execution_count": 16,
   "metadata": {},
   "outputs": [],
   "source": [
    "from icecream import ic"
   ]
  },
  {
   "cell_type": "code",
   "execution_count": null,
   "metadata": {},
   "outputs": [],
   "source": [
    "route_params = osrm.RouteParameters(coordinates = [(location1[1], location1[0]), (location2[1], location2[0])], \n",
    "                                    geometries='geojson', overview='full', annotations=[], steps=False)\n",
    "\n",
    "            # Pass it into the py_osrm instance\n",
    "            response = py_osrm.Route(route_params)"
   ]
  },
  {
   "cell_type": "code",
   "execution_count": 52,
   "metadata": {},
   "outputs": [
    {
     "name": "stdout",
     "output_type": "stream",
     "text": [
      "\u001b[33mWARNING: Retrying (Retry(total=4, connect=None, read=None, redirect=None, status=None)) after connection broken by 'ReadTimeoutError(\"HTTPSConnectionPool(host='pypi.org', port=443): Read timed out. (read timeout=15)\")': /simple/pyosrm/\u001b[0m\u001b[33m\n",
      "\u001b[0m\u001b[33mWARNING: Retrying (Retry(total=3, connect=None, read=None, redirect=None, status=None)) after connection broken by 'ReadTimeoutError(\"HTTPSConnectionPool(host='pypi.org', port=443): Read timed out. (read timeout=15)\")': /simple/pyosrm/\u001b[0m\u001b[33m\n",
      "\u001b[0mCollecting pyosrm\n",
      "  Downloading pyosrm-0.0.2-cp38-cp38-manylinux2014_x86_64.whl (1.4 MB)\n",
      "\u001b[2K     \u001b[90m━━━━━━━━━━━━━━━━━━━━━━━━━━━━━━━━━━━━━━━━\u001b[0m \u001b[32m1.4/1.4 MB\u001b[0m \u001b[31m21.9 MB/s\u001b[0m eta \u001b[36m0:00:00\u001b[0ma \u001b[36m0:00:01\u001b[0m\n",
      "\u001b[?25hInstalling collected packages: pyosrm\n",
      "Successfully installed pyosrm-0.0.2\n",
      "\u001b[33mWARNING: Running pip as the 'root' user can result in broken permissions and conflicting behaviour with the system package manager. It is recommended to use a virtual environment instead: https://pip.pypa.io/warnings/venv\u001b[0m\u001b[33m\n",
      "\u001b[0m"
     ]
    }
   ],
   "source": [
    "!pip install pyosrm"
   ]
  },
  {
   "cell_type": "code",
   "execution_count": 61,
   "metadata": {},
   "outputs": [
    {
     "ename": "ValueError",
     "evalue": "You need either a valid path or use_shared_memory True",
     "output_type": "error",
     "traceback": [
      "\u001b[0;31m---------------------------------------------------------------------------\u001b[0m",
      "\u001b[0;31mValueError\u001b[0m                                Traceback (most recent call last)",
      "\u001b[0;32m<ipython-input-61-f9dfc3fc57f5>\u001b[0m in \u001b[0;36m<module>\u001b[0;34m\u001b[0m\n\u001b[1;32m      1\u001b[0m \u001b[0;32mimport\u001b[0m \u001b[0mpyosrm\u001b[0m \u001b[0;32mas\u001b[0m \u001b[0mposrm\u001b[0m\u001b[0;34m\u001b[0m\u001b[0;34m\u001b[0m\u001b[0m\n\u001b[0;32m----> 2\u001b[0;31m \u001b[0mrouter\u001b[0m \u001b[0;34m=\u001b[0m \u001b[0mposrm\u001b[0m\u001b[0;34m.\u001b[0m\u001b[0mPyOSRM\u001b[0m\u001b[0;34m(\u001b[0m\u001b[0mpath\u001b[0m\u001b[0;34m=\u001b[0m\u001b[0;34m'/wheelbarrow/monaco-latest'\u001b[0m\u001b[0;34m,\u001b[0m \u001b[0malgorithm\u001b[0m\u001b[0;34m=\u001b[0m\u001b[0;34m'CH'\u001b[0m\u001b[0;34m)\u001b[0m\u001b[0;34m\u001b[0m\u001b[0;34m\u001b[0m\u001b[0m\n\u001b[0m",
      "\u001b[0;32msrc/pyosrm/core.pyx\u001b[0m in \u001b[0;36mpyosrm.PyOSRM.__cinit__\u001b[0;34m()\u001b[0m\n",
      "\u001b[0;31mValueError\u001b[0m: You need either a valid path or use_shared_memory True"
     ]
    }
   ],
   "source": [
    "import pyosrm as posrm\n",
    "router = posrm.PyOSRM(path='/wheelbarrow/monaco-latest', algorithm='CH')"
   ]
  },
  {
   "cell_type": "code",
   "execution_count": 64,
   "metadata": {},
   "outputs": [
    {
     "name": "stdout",
     "output_type": "stream",
     "text": [
      "Found existing installation: pyosrm 0.0.2\n",
      "Uninstalling pyosrm-0.0.2:\n",
      "  Successfully uninstalled pyosrm-0.0.2\n",
      "\u001b[33mWARNING: Running pip as the 'root' user can result in broken permissions and conflicting behaviour with the system package manager. It is recommended to use a virtual environment instead: https://pip.pypa.io/warnings/venv\u001b[0m\u001b[33m\n",
      "\u001b[0m"
     ]
    }
   ],
   "source": [
    "!pip uninstall -y pyosrm"
   ]
  },
  {
   "cell_type": "code",
   "execution_count": 9,
   "metadata": {},
   "outputs": [
    {
     "name": "stdout",
     "output_type": "stream",
     "text": [
      "Cloning into 'pyosrm'...\n",
      "remote: Enumerating objects: 185, done.\u001b[K\n",
      "remote: Counting objects: 100% (28/28), done.\u001b[K\n",
      "remote: Compressing objects: 100% (8/8), done.\u001b[K\n",
      "remote: Total 185 (delta 22), reused 20 (delta 20), pack-reused 157\u001b[K\n",
      "Receiving objects: 100% (185/185), 990.02 KiB | 8.18 MiB/s, done.\n",
      "Resolving deltas: 100% (75/75), done.\n"
     ]
    }
   ],
   "source": [
    "!git clone https://github.com/enricodvn/pyosrm.git"
   ]
  },
  {
   "cell_type": "code",
   "execution_count": 10,
   "metadata": {},
   "outputs": [
    {
     "name": "stdout",
     "output_type": "stream",
     "text": [
      "Collecting cython\n",
      "  Downloading Cython-3.0.3-cp38-cp38-manylinux_2_17_x86_64.manylinux2014_x86_64.whl (3.6 MB)\n",
      "\u001b[2K     \u001b[90m━━━━━━━━━━━━━━━━━━━━━━━━━━━━━━━━━━━━━━━━\u001b[0m \u001b[32m3.6/3.6 MB\u001b[0m \u001b[31m17.7 MB/s\u001b[0m eta \u001b[36m0:00:00\u001b[0m00:01\u001b[0m00:01\u001b[0m\n",
      "\u001b[?25hInstalling collected packages: cython\n",
      "Successfully installed cython-3.0.3\n",
      "\u001b[33mWARNING: Running pip as the 'root' user can result in broken permissions and conflicting behaviour with the system package manager. It is recommended to use a virtual environment instead: https://pip.pypa.io/warnings/venv\u001b[0m\u001b[33m\n",
      "\u001b[0m"
     ]
    }
   ],
   "source": [
    "!pip install cython"
   ]
  },
  {
   "cell_type": "code",
   "execution_count": 11,
   "metadata": {},
   "outputs": [
    {
     "name": "stdout",
     "output_type": "stream",
     "text": [
      "Processing /pyosrm\n",
      "  Preparing metadata (setup.py) ... \u001b[?25ldone\n",
      "\u001b[?25hBuilding wheels for collected packages: pyosrm\n",
      "  Building wheel for pyosrm (setup.py) ... \u001b[?25ldone\n",
      "\u001b[?25h  Created wheel for pyosrm: filename=pyosrm-0.0.2-cp38-cp38-linux_x86_64.whl size=1569646 sha256=5860c6df537e206c8d1b55f3b55147bd14c9f2f986bc3b0d2bd5b9e6fcaa0f29\n",
      "  Stored in directory: /tmp/pip-ephem-wheel-cache-o6kg4kii/wheels/d9/d4/15/18df54d846b356f61c29849d4f517bd78c167276d2b17ef391\n",
      "Successfully built pyosrm\n",
      "Installing collected packages: pyosrm\n",
      "Successfully installed pyosrm-0.0.2\n",
      "\u001b[33mWARNING: Running pip as the 'root' user can result in broken permissions and conflicting behaviour with the system package manager. It is recommended to use a virtual environment instead: https://pip.pypa.io/warnings/venv\u001b[0m\u001b[33m\n",
      "\u001b[0m"
     ]
    }
   ],
   "source": [
    "!cd pyosrm && pip install ."
   ]
  },
  {
   "cell_type": "code",
   "execution_count": null,
   "metadata": {},
   "outputs": [],
   "source": []
  },
  {
   "cell_type": "code",
   "execution_count": 12,
   "metadata": {},
   "outputs": [],
   "source": [
    "import pyosrm"
   ]
  },
  {
   "cell_type": "code",
   "execution_count": 13,
   "metadata": {},
   "outputs": [
    {
     "ename": "RuntimeError",
     "evalue": "File is incompatible with this version of OSRM: pyosrm/tests/data/ch/monaco-latest.osrm.ebg_nodes prepared with OSRM 5.22.0 but this is v5.28.0 (at include/storage/tar.hpp:201)",
     "output_type": "error",
     "traceback": [
      "\u001b[0;31m---------------------------------------------------------------------------\u001b[0m",
      "\u001b[0;31mRuntimeError\u001b[0m                              Traceback (most recent call last)",
      "\u001b[0;32m<ipython-input-13-625cf2a038ef>\u001b[0m in \u001b[0;36m<module>\u001b[0;34m\u001b[0m\n\u001b[1;32m      1\u001b[0m \u001b[0;32mfrom\u001b[0m \u001b[0mpyosrm\u001b[0m \u001b[0;32mimport\u001b[0m \u001b[0mPyOSRM\u001b[0m\u001b[0;34m,\u001b[0m \u001b[0mStatus\u001b[0m\u001b[0;34m\u001b[0m\u001b[0;34m\u001b[0m\u001b[0m\n\u001b[0;32m----> 2\u001b[0;31m \u001b[0mrouter\u001b[0m \u001b[0;34m=\u001b[0m \u001b[0mPyOSRM\u001b[0m\u001b[0;34m(\u001b[0m\u001b[0;34m\"pyosrm/tests/data/ch/monaco-latest.osrm\"\u001b[0m\u001b[0;34m,\u001b[0m \u001b[0malgorithm\u001b[0m\u001b[0;34m=\u001b[0m\u001b[0;34m'CH'\u001b[0m\u001b[0;34m)\u001b[0m\u001b[0;34m\u001b[0m\u001b[0;34m\u001b[0m\u001b[0m\n\u001b[0m",
      "\u001b[0;32msrc/pyosrm/core.pyx\u001b[0m in \u001b[0;36mpyosrm.PyOSRM.__cinit__\u001b[0;34m()\u001b[0m\n",
      "\u001b[0;31mRuntimeError\u001b[0m: File is incompatible with this version of OSRM: pyosrm/tests/data/ch/monaco-latest.osrm.ebg_nodes prepared with OSRM 5.22.0 but this is v5.28.0 (at include/storage/tar.hpp:201)"
     ]
    }
   ],
   "source": [
    "from pyosrm import PyOSRM, Status\n",
    "router = PyOSRM(\"pyosrm/tests/data/ch/monaco-latest.osrm\", algorithm='CH')"
   ]
  },
  {
   "cell_type": "code",
   "execution_count": 22,
   "metadata": {},
   "outputs": [
    {
     "ename": "RuntimeError",
     "evalue": "Required files are missing, cannot continue. Have all the pre-processing steps been run? Missing files: /monaco-latest.osrm.datasource_names, /monaco-latest.osrm.ebg_nodes, /monaco-latest.osrm.edges, /monaco-latest.osrm.fileIndex, /monaco-latest.osrm.geometry, /monaco-latest.osrm.icd, /monaco-latest.osrm.maneuver_overrides, /monaco-latest.osrm.names, /monaco-latest.osrm.nbg_nodes, /monaco-latest.osrm.properties, /monaco-latest.osrm.ramIndex, /monaco-latest.osrm.timestamp, /monaco-latest.osrm.tld, /monaco-latest.osrm.tls, /monaco-latest.osrm.turn_duration_penalties, /monaco-latest.osrm.turn_weight_penalties",
     "output_type": "error",
     "traceback": [
      "\u001b[0;31m---------------------------------------------------------------------------\u001b[0m",
      "\u001b[0;31mRuntimeError\u001b[0m                              Traceback (most recent call last)",
      "\u001b[0;32m<ipython-input-22-80421d8c8cda>\u001b[0m in \u001b[0;36m<module>\u001b[0;34m\u001b[0m\n\u001b[1;32m      1\u001b[0m \u001b[0;32mfrom\u001b[0m \u001b[0mpyosrm\u001b[0m \u001b[0;32mimport\u001b[0m \u001b[0mPyOSRM\u001b[0m\u001b[0;34m,\u001b[0m \u001b[0mStatus\u001b[0m\u001b[0;34m\u001b[0m\u001b[0;34m\u001b[0m\u001b[0m\n\u001b[0;32m----> 2\u001b[0;31m \u001b[0mrouter\u001b[0m \u001b[0;34m=\u001b[0m \u001b[0mPyOSRM\u001b[0m\u001b[0;34m(\u001b[0m\u001b[0;34m\"/monaco-latest\"\u001b[0m\u001b[0;34m,\u001b[0m \u001b[0malgorithm\u001b[0m\u001b[0;34m=\u001b[0m\u001b[0;34m'CH'\u001b[0m\u001b[0;34m)\u001b[0m\u001b[0;34m\u001b[0m\u001b[0;34m\u001b[0m\u001b[0m\n\u001b[0m",
      "\u001b[0;32msrc/pyosrm/core.pyx\u001b[0m in \u001b[0;36mpyosrm.PyOSRM.__cinit__\u001b[0;34m()\u001b[0m\n",
      "\u001b[0;31mRuntimeError\u001b[0m: Required files are missing, cannot continue. Have all the pre-processing steps been run? Missing files: /monaco-latest.osrm.datasource_names, /monaco-latest.osrm.ebg_nodes, /monaco-latest.osrm.edges, /monaco-latest.osrm.fileIndex, /monaco-latest.osrm.geometry, /monaco-latest.osrm.icd, /monaco-latest.osrm.maneuver_overrides, /monaco-latest.osrm.names, /monaco-latest.osrm.nbg_nodes, /monaco-latest.osrm.properties, /monaco-latest.osrm.ramIndex, /monaco-latest.osrm.timestamp, /monaco-latest.osrm.tld, /monaco-latest.osrm.tls, /monaco-latest.osrm.turn_duration_penalties, /monaco-latest.osrm.turn_weight_penalties"
     ]
    }
   ],
   "source": [
    "from pyosrm import PyOSRM, Status\n",
    "router = PyOSRM(\"/monaco-latest\", algorithm='CH')"
   ]
  },
  {
   "cell_type": "code",
   "execution_count": 28,
   "metadata": {},
   "outputs": [],
   "source": [
    "from pyosrm import PyOSRM, Status\n",
    "router = PyOSRM(\"/monaco-latest\", algorithm='CH')"
   ]
  },
  {
   "cell_type": "code",
   "execution_count": 29,
   "metadata": {},
   "outputs": [],
   "source": [
    "result = router.route([[7.419758, 43.731142], [7.419505, 43.736825]])"
   ]
  },
  {
   "cell_type": "code",
   "execution_count": 30,
   "metadata": {},
   "outputs": [
    {
     "data": {
      "text/plain": [
       "[{'distance': 1717.8,\n",
       "  'duration': 135.9,\n",
       "  'legs': [{'steps': [],\n",
       "    'distance': 1717.8,\n",
       "    'duration': 135.9,\n",
       "    'summary': ''}],\n",
       "  'geometry': 'ch|iGuchl@aAcFo@gIb@lNRpNZlCEVSH{@m@z@iA^BDc@OQQDU_@_A_DmAmCSJ?dAmAvFYBuAm@]@kBj@a@v@uBDgAe@eBcB[q@e@eCaCgD',\n",
       "  'weight_name': 'routability',\n",
       "  'weight': 135.9}]"
      ]
     },
     "execution_count": 30,
     "metadata": {},
     "output_type": "execute_result"
    }
   ],
   "source": [
    "result.json()['routes']"
   ]
  },
  {
   "cell_type": "code",
   "execution_count": 38,
   "metadata": {},
   "outputs": [],
   "source": [
    "def calculate_elevation_costs(perms, customers):\n",
    "    elevation_cost = np.zeros((len(st),len(st)))\n",
    "\n",
    "    locations = customers[['lat','lon']].values\n",
    "    \n",
    "    total_duration = 0\n",
    "    for source, destination in perms:\n",
    "\n",
    "        location1 = locations[source]\n",
    "        location2 = locations[destination]\n",
    "        lats = [location1[0], location2[0]]\n",
    "        lons = [location1[1], location2[1]]\n",
    "\n",
    "        result = router.route([(location1[1], location1[0]), (location2[1], location2[0])]).json()['routes'][0]\n",
    "        total_duration += result['duration']\n",
    "        continue\n",
    "        #response = osrmbindings.route(lons, lats)\n",
    "        #parsed = ujson.loads(response )\n",
    "        coords = np.array(parsed['routes'][0]['geometry']['coordinates'])\n",
    "        ys = coords[:,1]\n",
    "        xs = coords[:,0]\n",
    "\n",
    "        ys0 = ys[0:-1]\n",
    "        ys1 = ys[1:]\n",
    "        xs0 = xs[0:-1]\n",
    "        xs1 = xs[1:]\n",
    "        rows, cols = rasterio.transform.rowcol(src.transform, xs, ys)\n",
    "\n",
    "        elevation_along_route = alt[rows,cols]\n",
    "\n",
    "        distances = haversine_np(xs0, ys0, xs1, ys1)\n",
    "        travelled = np.cumsum(distances)\n",
    "        change = np.diff(elevation_along_route/1000)/distances # meters to km, elevation change per distance unit\n",
    "\n",
    "        cost = np.max(change)\n",
    "        elevation_cost[source, destination] = cost\n",
    "    print(total_duration)\n",
    "    return elevation_cost"
   ]
  },
  {
   "cell_type": "code",
   "execution_count": null,
   "metadata": {},
   "outputs": [],
   "source": []
  },
  {
   "cell_type": "code",
   "execution_count": 42,
   "metadata": {},
   "outputs": [],
   "source": [
    "def calculate_elevation_costs(perms, customers):\n",
    "    elevation_cost = np.zeros((len(st),len(st)))\n",
    "\n",
    "    locations = customers[['lat','lon']].astype(np.float32).values\n",
    "    total_duration = 0\n",
    "    #with rasterio.open('monaco.geotiff') as src:\n",
    "    for source, destination in perms:\n",
    "\n",
    "        location1 = locations[source]\n",
    "        location2 = locations[destination]\n",
    "        lats = [location1[0], location2[0]]\n",
    "        lons = [location1[1], location2[1]]\n",
    "\n",
    "        #print([(location1[1], location1[0]), (location2[1], location2[0])])\n",
    "        #print([(7.41337, 43.72956), (7.48546, 43.73077)])\n",
    "        \n",
    "        #coords = [(7.4252031, 43.7327806), (7.4239272, 43.7325243)]\n",
    "        coords = [(float(location1[1]), float(location1[0])), (float(location2[1]), float(location2[0]))]\n",
    "        \n",
    "        route_params = osrm.RouteParameters(coordinates = coords, geometries='geojson', overview='full', annotations=[], steps=False)\n",
    "        #route_params = osrm.RouteParameters(coordinates = [(7.4252031, 43.7327806), (7.4239272, 43.7325243)], geometries='geojson', overview='simplified', annotations=[], steps=False)\n",
    "        #route_params = osrm.RouteParameters(coordinates = [(location1[1], location1[0]), (location2[1], location2[0])],geometries='geojson', overview='simplified', annotations=[], steps=False)\n",
    "        #route_params = osrm.RouteParameters(coordinates = [(7.41337, 43.72956), (7.48546, 43.73077)] ,geometries='geojson', overview='simplified', annotations=[], steps=False)\n",
    "        \n",
    "        # Pass it into the py_osrm instance\n",
    "        parsed = py_osrm.Route(route_params)\n",
    "        total_duration += parsed['routes'][0]['duration']\n",
    "        continue\n",
    "        #response = osrmbindings.route(lons, lats)\n",
    "        #parsed = ujson.loads(response )\n",
    "        coords = np.array(parsed['routes'][0]['geometry']['coordinates'])\n",
    "        ys = coords[:,1]\n",
    "        xs = coords[:,0]\n",
    "\n",
    "        ys0 = ys[0:-1]\n",
    "        ys1 = ys[1:]\n",
    "        xs0 = xs[0:-1]\n",
    "        xs1 = xs[1:]\n",
    "        rows, cols = rasterio.transform.rowcol(src.transform, xs, ys)\n",
    "\n",
    "        elevation_along_route = alt[rows,cols]\n",
    "\n",
    "        distances = haversine_np(xs0, ys0, xs1, ys1)\n",
    "        travelled = np.cumsum(distances)\n",
    "        change = np.diff(elevation_along_route/1000)/distances # meters to km, elevation change per distance unit\n",
    "\n",
    "        cost = np.max(change)\n",
    "        elevation_cost[source, destination] = cost\n",
    "    print(total_duration)\n",
    "    return elevation_cost"
   ]
  },
  {
   "cell_type": "code",
   "execution_count": 86,
   "metadata": {},
   "outputs": [
    {
     "data": {
      "text/plain": [
       "(1, 2)"
      ]
     },
     "execution_count": 86,
     "metadata": {},
     "output_type": "execute_result"
    }
   ],
   "source": [
    "tuple((1,2))"
   ]
  },
  {
   "cell_type": "code",
   "execution_count": 196,
   "metadata": {},
   "outputs": [],
   "source": [
    "def calculate_elevation_costs(perms, customers):\n",
    "    elevation_cost = np.zeros((len(st),len(st)))\n",
    "\n",
    "    locations = customers[['lat','lon']].values\n",
    "    \n",
    "    with rasterio.open('monaco.geotiff') as src:\n",
    "        for source, destination in perms:\n",
    "            \n",
    "            location1 = locations[source]\n",
    "            location2 = locations[destination]\n",
    "            lats = [location1[0], location2[0]]\n",
    "            lons = [location1[1], location2[1]]\n",
    "            \n",
    "            response = osrmbindings.route(lons, lats)\n",
    "            parsed = ujson.loads(response)\n",
    "            coords = np.array(parsed['routes'][0]['geometry']['coordinates'])\n",
    "            ys = coords[:,1]\n",
    "            xs = coords[:,0]\n",
    "            \n",
    "            ys0 = ys[0:-1]\n",
    "            ys1 = ys[1:]\n",
    "            xs0 = xs[0:-1]\n",
    "            xs1 = xs[1:]\n",
    "            rows, cols = rasterio.transform.rowcol(src.transform, xs, ys)\n",
    "\n",
    "            elevation_along_route = alt[rows,cols]\n",
    "\n",
    "            distances = haversine_np(xs0, ys0, xs1, ys1)\n",
    "            travelled = np.cumsum(distances)\n",
    "            change = np.diff(elevation_along_route/1000)/distances # meters to km, elevation change per distance unit\n",
    "\n",
    "            cost = np.max(change)\n",
    "            elevation_cost[source, destination] = cost\n",
    "        return elevation_cost"
   ]
  },
  {
   "cell_type": "code",
   "execution_count": 36,
   "metadata": {},
   "outputs": [],
   "source": [
    "locations = st[['lat','lon']].astype(np.float32).values"
   ]
  },
  {
   "cell_type": "code",
   "execution_count": 37,
   "metadata": {},
   "outputs": [
    {
     "data": {
      "text/plain": [
       "dtype('float32')"
      ]
     },
     "execution_count": 37,
     "metadata": {},
     "output_type": "execute_result"
    }
   ],
   "source": [
    "locations.dtype"
   ]
  },
  {
   "cell_type": "code",
   "execution_count": 39,
   "metadata": {},
   "outputs": [
    {
     "name": "stdout",
     "output_type": "stream",
     "text": [
      "1549195.7000000004\n",
      "CPU times: user 2.01 s, sys: 7.6 ms, total: 2.02 s\n",
      "Wall time: 2.01 s\n"
     ]
    }
   ],
   "source": [
    "%%time\n",
    "costs = calculate_elevation_costs(perms, st)"
   ]
  },
  {
   "cell_type": "code",
   "execution_count": 43,
   "metadata": {},
   "outputs": [
    {
     "name": "stdout",
     "output_type": "stream",
     "text": [
      "1549230.0999999999\n",
      "CPU times: user 3 s, sys: 0 ns, total: 3 s\n",
      "Wall time: 3 s\n"
     ]
    }
   ],
   "source": [
    "%%time\n",
    "costs = calculate_elevation_costs(perms, st)"
   ]
  },
  {
   "cell_type": "code",
   "execution_count": 150,
   "metadata": {},
   "outputs": [
    {
     "name": "stdout",
     "output_type": "stream",
     "text": [
      "649 ms ± 9.26 ms per loop (mean ± std. dev. of 7 runs, 1 loop each)\n"
     ]
    }
   ],
   "source": [
    "%%timeit\n",
    "costs = calculate_elevation_costs(perms, st)"
   ]
  },
  {
   "cell_type": "code",
   "execution_count": 56,
   "metadata": {},
   "outputs": [
    {
     "data": {
      "text/plain": [
       "70.0"
      ]
     },
     "execution_count": 56,
     "metadata": {},
     "output_type": "execute_result"
    }
   ],
   "source": [
    "(700**2)/7000"
   ]
  },
  {
   "cell_type": "code",
   "execution_count": 57,
   "metadata": {},
   "outputs": [
    {
     "data": {
      "text/plain": [
       "560"
      ]
     },
     "execution_count": 57,
     "metadata": {},
     "output_type": "execute_result"
    }
   ],
   "source": [
    "8*70"
   ]
  },
  {
   "cell_type": "code",
   "execution_count": 58,
   "metadata": {},
   "outputs": [
    {
     "data": {
      "text/plain": [
       "9.333333333333334"
      ]
     },
     "execution_count": 58,
     "metadata": {},
     "output_type": "execute_result"
    }
   ],
   "source": [
    "560/60"
   ]
  },
  {
   "cell_type": "code",
   "execution_count": 86,
   "metadata": {},
   "outputs": [
    {
     "data": {
      "text/plain": [
       "14.23076923076923"
      ]
     },
     "execution_count": 86,
     "metadata": {},
     "output_type": "execute_result"
    }
   ],
   "source": [
    "37/2.6"
   ]
  },
  {
   "cell_type": "code",
   "execution_count": 211,
   "metadata": {},
   "outputs": [
    {
     "data": {
      "text/plain": [
       "<matplotlib.image.AxesImage at 0x7f27d8c646d0>"
      ]
     },
     "execution_count": 211,
     "metadata": {},
     "output_type": "execute_result"
    },
    {
     "data": {
      "image/png": "[encoded data removed]",
      "text/plain": [
       "<Figure size 640x480 with 1 Axes>"
      ]
     },
     "metadata": {},
     "output_type": "display_data"
    }
   ],
   "source": [
    "pyplot.imshow(costs)"
   ]
  },
  {
   "cell_type": "code",
   "execution_count": 213,
   "metadata": {},
   "outputs": [],
   "source": [
    "np.save('elevation.costs.npy', costs)"
   ]
  },
  {
   "cell_type": "code",
   "execution_count": null,
   "metadata": {},
   "outputs": [],
   "source": []
  },
  {
   "cell_type": "code",
   "execution_count": null,
   "metadata": {},
   "outputs": [],
   "source": []
  },
  {
   "cell_type": "code",
   "execution_count": null,
   "metadata": {},
   "outputs": [],
   "source": []
  },
  {
   "cell_type": "code",
   "execution_count": 30,
   "metadata": {},
   "outputs": [
    {
     "name": "stdout",
     "output_type": "stream",
     "text": [
      "Collecting line_profiler\n",
      "  Downloading line_profiler-4.1.1-cp37-cp37m-manylinux_2_17_x86_64.manylinux2014_x86_64.whl (675 kB)\n",
      "\u001b[K     |████████████████████████████████| 675 kB 7.5 MB/s eta 0:00:01\n",
      "\u001b[?25hInstalling collected packages: line-profiler\n",
      "Successfully installed line-profiler-4.1.1\n"
     ]
    }
   ],
   "source": [
    "!pip install line_profiler"
   ]
  },
  {
   "cell_type": "code",
   "execution_count": 31,
   "metadata": {},
   "outputs": [],
   "source": [
    "%load_ext line_profiler"
   ]
  },
  {
   "cell_type": "code",
   "execution_count": 184,
   "metadata": {},
   "outputs": [],
   "source": [
    "%lprun -f calculate_elevation_costs calculate_elevation_costs(perms, st)"
   ]
  },
  {
   "cell_type": "code",
   "execution_count": null,
   "metadata": {},
   "outputs": [],
   "source": []
  },
  {
   "cell_type": "code",
   "execution_count": null,
   "metadata": {},
   "outputs": [],
   "source": []
  },
  {
   "cell_type": "code",
   "execution_count": null,
   "metadata": {},
   "outputs": [],
   "source": []
  },
  {
   "cell_type": "code",
   "execution_count": null,
   "metadata": {},
   "outputs": [],
   "source": [
    "%load_ext autoreload\n",
    "%autoreload 2"
   ]
  },
  {
   "cell_type": "code",
   "execution_count": null,
   "metadata": {},
   "outputs": [],
   "source": [
    "import sys\n",
    "import json\n",
    "import argparse\n",
    "import time\n",
    "\n",
    "import build_time_dist_matrix\n",
    "import optimization\n",
    "import visualization\n",
    "import schedule\n",
    "import upload_results\n",
    "import manual_viz\n",
    "\n",
    "\n",
    "\n",
    "with open('data/config.json', 'r') as opened:\n",
    "    config = json.load(opened)"
   ]
  },
  {
   "cell_type": "code",
   "execution_count": null,
   "metadata": {},
   "outputs": [],
   "source": [
    "\n",
    "    \n",
    "print(' *   Building Time/Distance Matrices')\n",
    "#check if node_loader_options are specified\n",
    "if 'node_loader_options' in config.keys():\n",
    "    node_data = build_time_dist_matrix.process_nodes(config['node_loader_options'], config['zone_configs'])\n",
    "else:\n",
    "    node_data = build_time_dist_matrix.process_nodes()\n",
    "\n",
    "print(f' *   Starting Model Run at {time.strftime(\"%H:%M:%S\")} (UTC)')\n",
    "\n",
    "routes_for_mapping_viz, vehicles_viz, zone_route_map = optimization.main(node_data, config)\n",
    "\n",
    "visualization.main(routes_for_mapping_viz, vehicles_viz, zone_route_map)\n",
    "\n"
   ]
  },
  {
   "cell_type": "code",
   "execution_count": null,
   "metadata": {},
   "outputs": [],
   "source": [
    "import datetime\n",
    "import matplotlib\n",
    "from matplotlib import pyplot\n",
    "import numpy as np\n",
    "import pandas as pd"
   ]
  },
  {
   "cell_type": "code",
   "execution_count": null,
   "metadata": {},
   "outputs": [],
   "source": [
    "pyplot.rcParams[\"figure.figsize\"] = [3,7]\n",
    "for route in route_dict:\n",
    "    distances = [0]+route_dict[route]['current_distance'][:-1]\n",
    "    times = route_dict[route]['time']\n",
    "    distances = np.array(distances).cumsum()\n",
    "    times = np.array(times)\n",
    "\n",
    "    y_ticks = [f'{name} - {datetime.timedelta(seconds=float(one_time))}' for one_time,name in zip(times,route_dict[route]['current_names'])]\n",
    "    pyplot.yticks(ticks=times, labels=y_ticks)\n",
    "    pyplot.plot(distances, times, marker='o')\n",
    "    pyplot.show()"
   ]
  },
  {
   "cell_type": "code",
   "execution_count": null,
   "metadata": {},
   "outputs": [],
   "source": []
  },
  {
   "cell_type": "code",
   "execution_count": null,
   "metadata": {},
   "outputs": [],
   "source": [
    "pyplot.rcParams[\"figure.figsize\"] = [3,7]\n",
    "for route in route_dict:\n",
    "    distances = pd.Series(route_dict[route]['travel_time']).shift(1).values[1:]\n",
    "    times = pd.Series(route_dict[route]['time']).diff()[1:]-150\n",
    "    times = (times-distances)\n",
    "    times = [int(t) for t in times]\n",
    "    #distances = np.array(distances).cumsum()\n",
    "    times = np.array(times)\n",
    "\n",
    "    y_ticks = [f'{name[0]} to {name[1]} - {datetime.timedelta(seconds=float(one_time))}' for one_time,name in zip(times,zip(route_dict[route]['current_names'], route_dict[route]['next_names']))]\n",
    "    pyplot.yticks(ticks=times, labels=y_ticks)\n",
    "    pyplot.plot(times, marker='o')\n",
    "    #pyplot.plot(distances, marker='o')\n",
    "    pyplot.show()"
   ]
  }
 ],
 "metadata": {
  "kernelspec": {
   "display_name": "Python 3",
   "language": "python",
   "name": "python3"
  },
  "language_info": {
   "codemirror_mode": {
    "name": "ipython",
    "version": 3
   },
   "file_extension": ".py",
   "mimetype": "text/x-python",
   "name": "python",
   "nbconvert_exporter": "python",
   "pygments_lexer": "ipython3",
   "version": "3.8.13"
  }
 },
 "nbformat": 4,
 "nbformat_minor": 2
}

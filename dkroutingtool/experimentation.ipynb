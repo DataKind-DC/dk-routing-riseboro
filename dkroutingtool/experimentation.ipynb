{
 "cells": [
  {
   "cell_type": "code",
   "execution_count": 186,
   "metadata": {},
   "outputs": [
    {
     "name": "stdout",
     "output_type": "stream",
     "text": [
      "Collecting matplotlib\n",
      "  Downloading matplotlib-3.5.3-cp37-cp37m-manylinux_2_5_x86_64.manylinux1_x86_64.whl (11.2 MB)\n",
      "     |████████████████████████████████| 11.2 MB 409 kB/s  eta 0:00:01\n",
      "\u001b[?25hCollecting fonttools>=4.22.0\n",
      "  Downloading fonttools-4.38.0-py3-none-any.whl (965 kB)\n",
      "     |████████████████████████████████| 965 kB 40.3 MB/s eta 0:00:01\n",
      "\u001b[?25hRequirement already satisfied: packaging>=20.0 in /opt/conda/lib/python3.7/site-packages (from matplotlib) (23.1)\n",
      "Collecting kiwisolver>=1.0.1\n",
      "  Downloading kiwisolver-1.4.5-cp37-cp37m-manylinux_2_5_x86_64.manylinux1_x86_64.whl (1.1 MB)\n",
      "     |████████████████████████████████| 1.1 MB 29.8 MB/s eta 0:00:01\n",
      "\u001b[?25hRequirement already satisfied: pyparsing>=2.2.1 in /opt/conda/lib/python3.7/site-packages (from matplotlib) (3.1.1)\n",
      "Requirement already satisfied: numpy>=1.17 in /opt/conda/lib/python3.7/site-packages (from matplotlib) (1.21.6)\n",
      "Collecting pillow>=6.2.0\n",
      "  Downloading Pillow-9.5.0-cp37-cp37m-manylinux_2_17_x86_64.manylinux2014_x86_64.whl (3.3 MB)\n",
      "     |████████████████████████████████| 3.3 MB 28.1 MB/s eta 0:00:01\n",
      "\u001b[?25hRequirement already satisfied: python-dateutil>=2.7 in /opt/conda/lib/python3.7/site-packages (from matplotlib) (2.8.0)\n",
      "Collecting cycler>=0.10\n",
      "  Downloading cycler-0.11.0-py3-none-any.whl (6.4 kB)\n",
      "Requirement already satisfied: typing-extensions; python_version < \"3.8\" in /opt/conda/lib/python3.7/site-packages (from kiwisolver>=1.0.1->matplotlib) (4.7.1)\n",
      "Requirement already satisfied: six>=1.5 in /opt/conda/lib/python3.7/site-packages (from python-dateutil>=2.7->matplotlib) (1.13.0)\n",
      "Installing collected packages: fonttools, kiwisolver, pillow, cycler, matplotlib\n",
      "Successfully installed cycler-0.11.0 fonttools-4.38.0 kiwisolver-1.4.5 matplotlib-3.5.3 pillow-9.5.0\n"
     ]
    }
   ],
   "source": [
    "!pip install matplotlib"
   ]
  },
  {
   "cell_type": "code",
   "execution_count": 187,
   "metadata": {},
   "outputs": [],
   "source": [
    "import matplotlib\n",
    "from matplotlib import pyplot"
   ]
  },
  {
   "cell_type": "code",
   "execution_count": 1,
   "metadata": {},
   "outputs": [],
   "source": [
    "import numpy as np\n",
    "import ujson\n",
    "import pandas as pd\n",
    "import itertools"
   ]
  },
  {
   "cell_type": "code",
   "execution_count": 2,
   "metadata": {},
   "outputs": [],
   "source": [
    "import rasterio\n",
    "import requests"
   ]
  },
  {
   "cell_type": "code",
   "execution_count": 18,
   "metadata": {},
   "outputs": [],
   "source": [
    "from math import pi,sqrt,sin,cos,atan2\n",
    "\n",
    "def haversine(pos1, pos2):\n",
    "    lat1 = float(pos1[0])\n",
    "    long1 = float(pos1[1])\n",
    "    lat2 = float(pos2[0])\n",
    "    long2 = float(pos2[1])\n",
    "\n",
    "    degree_to_rad = float(pi / 180.0)\n",
    "\n",
    "    d_lat = (lat2 - lat1) * degree_to_rad\n",
    "    d_long = (long2 - long1) * degree_to_rad\n",
    "\n",
    "    a = pow(sin(d_lat / 2), 2) + cos(lat1 * degree_to_rad) * cos(lat2 * degree_to_rad) * pow(sin(d_long / 2), 2)\n",
    "    c = 2 * atan2(sqrt(a), sqrt(1 - a))\n",
    "    km = 6367 * c\n",
    "    mi = 3956 * c\n",
    "\n",
    "    return km"
   ]
  },
  {
   "cell_type": "code",
   "execution_count": 53,
   "metadata": {},
   "outputs": [],
   "source": [
    "def haversine_np(lon1, lat1, lon2, lat2):\n",
    "    \"\"\"\n",
    "    Calculate the great circle distance between two points\n",
    "    on the earth (specified in decimal degrees)\n",
    "    \n",
    "    All args must be of equal length.    \n",
    "    \n",
    "    \"\"\"\n",
    "    lon1, lat1, lon2, lat2 = map(np.radians, [lon1, lat1, lon2, lat2])\n",
    "    \n",
    "    dlon = lon2 - lon1\n",
    "    dlat = lat2 - lat1\n",
    "    \n",
    "    a = np.sin(dlat/2.0)**2 + np.cos(lat1) * np.cos(lat2) * np.sin(dlon/2.0)**2\n",
    "    \n",
    "    c = 2 * np.arcsin(np.sqrt(a))\n",
    "    km = 6378.137 * c\n",
    "    return km"
   ]
  },
  {
   "cell_type": "code",
   "execution_count": 3,
   "metadata": {},
   "outputs": [],
   "source": [
    "south_latmin = 43.7247599\n",
    "north_latmax = 43.7519311\n",
    "west_lonmin = 7.4090279\n",
    "east_lonmax = 7.4398704"
   ]
  },
  {
   "cell_type": "code",
   "execution_count": 4,
   "metadata": {},
   "outputs": [],
   "source": [
    "path = f'https://portal.opentopography.org/API/globaldem?demtype=COP30&south={south_latmin}&north={north_latmax}&west={west_lonmin}&east={east_lonmax}&outputFormat=GTiff&API_Key=demoapikeyot2022'\n",
    "result = requests.get(path)\n",
    "\n",
    "with open('monaco.geotiff','wb') as opened:\n",
    "    opened.write(result.content)"
   ]
  },
  {
   "cell_type": "code",
   "execution_count": 5,
   "metadata": {},
   "outputs": [],
   "source": [
    "import osrmbindings"
   ]
  },
  {
   "cell_type": "code",
   "execution_count": 6,
   "metadata": {},
   "outputs": [],
   "source": [
    "osrmbindings.initialize('/3wheeler/monaco-latest')"
   ]
  },
  {
   "cell_type": "code",
   "execution_count": 7,
   "metadata": {},
   "outputs": [],
   "source": [
    "st = pd.read_excel('data/customer_data.xlsx')"
   ]
  },
  {
   "cell_type": "code",
   "execution_count": 8,
   "metadata": {},
   "outputs": [
    {
     "data": {
      "text/html": [
       "<div>\n",
       "<style scoped>\n",
       "    .dataframe tbody tr th:only-of-type {\n",
       "        vertical-align: middle;\n",
       "    }\n",
       "\n",
       "    .dataframe tbody tr th {\n",
       "        vertical-align: top;\n",
       "    }\n",
       "\n",
       "    .dataframe thead th {\n",
       "        text-align: right;\n",
       "    }\n",
       "</style>\n",
       "<table border=\"1\" class=\"dataframe\">\n",
       "  <thead>\n",
       "    <tr style=\"text-align: right;\">\n",
       "      <th></th>\n",
       "      <th>N</th>\n",
       "      <th>lon</th>\n",
       "      <th>lat</th>\n",
       "      <th>id</th>\n",
       "      <th>fclass</th>\n",
       "      <th>Name</th>\n",
       "      <th>Zone</th>\n",
       "      <th>Demand</th>\n",
       "      <th>Time Windows</th>\n",
       "    </tr>\n",
       "  </thead>\n",
       "  <tbody>\n",
       "    <tr>\n",
       "      <th>0</th>\n",
       "      <td>1</td>\n",
       "      <td>7.425203</td>\n",
       "      <td>43.732781</td>\n",
       "      <td>267901435</td>\n",
       "      <td>restaurant</td>\n",
       "      <td>Stars ‚Äôn‚Äô Bars</td>\n",
       "      <td>West</td>\n",
       "      <td>4</td>\n",
       "      <td>NaN</td>\n",
       "    </tr>\n",
       "    <tr>\n",
       "      <th>1</th>\n",
       "      <td>2</td>\n",
       "      <td>7.423927</td>\n",
       "      <td>43.732524</td>\n",
       "      <td>267901573</td>\n",
       "      <td>restaurant</td>\n",
       "      <td>Quai des Artistes</td>\n",
       "      <td>West</td>\n",
       "      <td>5</td>\n",
       "      <td>NaN</td>\n",
       "    </tr>\n",
       "    <tr>\n",
       "      <th>2</th>\n",
       "      <td>3</td>\n",
       "      <td>7.420386</td>\n",
       "      <td>43.732403</td>\n",
       "      <td>274500242</td>\n",
       "      <td>restaurant</td>\n",
       "      <td>Pizzeria Mon√©gasque</td>\n",
       "      <td>West</td>\n",
       "      <td>6</td>\n",
       "      <td>NaN</td>\n",
       "    </tr>\n",
       "    <tr>\n",
       "      <th>3</th>\n",
       "      <td>4</td>\n",
       "      <td>7.422148</td>\n",
       "      <td>43.733820</td>\n",
       "      <td>321647302</td>\n",
       "      <td>restaurant</td>\n",
       "      <td>Brasserie de Monaco</td>\n",
       "      <td>West</td>\n",
       "      <td>6</td>\n",
       "      <td>NaN</td>\n",
       "    </tr>\n",
       "    <tr>\n",
       "      <th>4</th>\n",
       "      <td>5</td>\n",
       "      <td>7.421410</td>\n",
       "      <td>43.733930</td>\n",
       "      <td>954710927</td>\n",
       "      <td>restaurant</td>\n",
       "      <td>Chez Edgar</td>\n",
       "      <td>West</td>\n",
       "      <td>3</td>\n",
       "      <td>NaN</td>\n",
       "    </tr>\n",
       "    <tr>\n",
       "      <th>...</th>\n",
       "      <td>...</td>\n",
       "      <td>...</td>\n",
       "      <td>...</td>\n",
       "      <td>...</td>\n",
       "      <td>...</td>\n",
       "      <td>...</td>\n",
       "      <td>...</td>\n",
       "      <td>...</td>\n",
       "      <td>...</td>\n",
       "    </tr>\n",
       "    <tr>\n",
       "      <th>82</th>\n",
       "      <td>83</td>\n",
       "      <td>7.429562</td>\n",
       "      <td>43.742286</td>\n",
       "      <td>7926333297</td>\n",
       "      <td>restaurant</td>\n",
       "      <td>Mozza</td>\n",
       "      <td>East</td>\n",
       "      <td>1</td>\n",
       "      <td>NaN</td>\n",
       "    </tr>\n",
       "    <tr>\n",
       "      <th>83</th>\n",
       "      <td>84</td>\n",
       "      <td>7.429690</td>\n",
       "      <td>43.742246</td>\n",
       "      <td>7926333298</td>\n",
       "      <td>restaurant</td>\n",
       "      <td>Cozza</td>\n",
       "      <td>East</td>\n",
       "      <td>4</td>\n",
       "      <td>NaN</td>\n",
       "    </tr>\n",
       "    <tr>\n",
       "      <th>84</th>\n",
       "      <td>85</td>\n",
       "      <td>7.430252</td>\n",
       "      <td>43.739527</td>\n",
       "      <td>8176182650</td>\n",
       "      <td>restaurant</td>\n",
       "      <td>Horizon Deck</td>\n",
       "      <td>East</td>\n",
       "      <td>6</td>\n",
       "      <td>NaN</td>\n",
       "    </tr>\n",
       "    <tr>\n",
       "      <th>85</th>\n",
       "      <td>86</td>\n",
       "      <td>7.428925</td>\n",
       "      <td>43.737572</td>\n",
       "      <td>8269648743</td>\n",
       "      <td>restaurant</td>\n",
       "      <td>Soci√©t√© Nautique</td>\n",
       "      <td>East</td>\n",
       "      <td>2</td>\n",
       "      <td>NaN</td>\n",
       "    </tr>\n",
       "    <tr>\n",
       "      <th>86</th>\n",
       "      <td>87</td>\n",
       "      <td>7.430811</td>\n",
       "      <td>43.743662</td>\n",
       "      <td>8269726062</td>\n",
       "      <td>restaurant</td>\n",
       "      <td>Cantinetta Antinori</td>\n",
       "      <td>East</td>\n",
       "      <td>6</td>\n",
       "      <td>NaN</td>\n",
       "    </tr>\n",
       "  </tbody>\n",
       "</table>\n",
       "<p>87 rows × 9 columns</p>\n",
       "</div>"
      ],
      "text/plain": [
       "     N       lon        lat          id      fclass                  Name  \\\n",
       "0    1  7.425203  43.732781   267901435  restaurant    Stars ‚Äôn‚Äô Bars   \n",
       "1    2  7.423927  43.732524   267901573  restaurant     Quai des Artistes   \n",
       "2    3  7.420386  43.732403   274500242  restaurant  Pizzeria Mon√©gasque   \n",
       "3    4  7.422148  43.733820   321647302  restaurant   Brasserie de Monaco   \n",
       "4    5  7.421410  43.733930   954710927  restaurant            Chez Edgar   \n",
       "..  ..       ...        ...         ...         ...                   ...   \n",
       "82  83  7.429562  43.742286  7926333297  restaurant                 Mozza   \n",
       "83  84  7.429690  43.742246  7926333298  restaurant                 Cozza   \n",
       "84  85  7.430252  43.739527  8176182650  restaurant          Horizon Deck   \n",
       "85  86  7.428925  43.737572  8269648743  restaurant    Soci√©t√© Nautique   \n",
       "86  87  7.430811  43.743662  8269726062  restaurant   Cantinetta Antinori   \n",
       "\n",
       "    Zone  Demand Time Windows  \n",
       "0   West       4          NaN  \n",
       "1   West       5          NaN  \n",
       "2   West       6          NaN  \n",
       "3   West       6          NaN  \n",
       "4   West       3          NaN  \n",
       "..   ...     ...          ...  \n",
       "82  East       1          NaN  \n",
       "83  East       4          NaN  \n",
       "84  East       6          NaN  \n",
       "85  East       2          NaN  \n",
       "86  East       6          NaN  \n",
       "\n",
       "[87 rows x 9 columns]"
      ]
     },
     "execution_count": 8,
     "metadata": {},
     "output_type": "execute_result"
    }
   ],
   "source": [
    "st"
   ]
  },
  {
   "cell_type": "code",
   "execution_count": 14,
   "metadata": {},
   "outputs": [],
   "source": [
    "with rasterio.open('monaco.geotiff') as opened:\n",
    "    alt = opened.read()[0] #only one channel to extract, result is a xy array"
   ]
  },
  {
   "cell_type": "code",
   "execution_count": 22,
   "metadata": {},
   "outputs": [],
   "source": [
    "perms_iter = itertools.permutations(st.index, 2)"
   ]
  },
  {
   "cell_type": "code",
   "execution_count": 23,
   "metadata": {},
   "outputs": [],
   "source": [
    "full_perms = list(perms_iter)"
   ]
  },
  {
   "cell_type": "code",
   "execution_count": 195,
   "metadata": {},
   "outputs": [],
   "source": [
    "perms = full_perms"
   ]
  },
  {
   "cell_type": "code",
   "execution_count": 104,
   "metadata": {},
   "outputs": [
    {
     "name": "stdout",
     "output_type": "stream",
     "text": [
      "Collecting icecream\n",
      "  Downloading icecream-2.1.3-py2.py3-none-any.whl (8.4 kB)\n",
      "Collecting asttokens>=2.0.1\n",
      "  Downloading asttokens-2.4.0-py2.py3-none-any.whl (27 kB)\n",
      "Collecting executing>=0.3.1\n",
      "  Downloading executing-2.0.0-py2.py3-none-any.whl (24 kB)\n",
      "Requirement already satisfied: pygments>=2.2.0 in /opt/conda/lib/python3.7/site-packages (from icecream) (2.4.2)\n",
      "Collecting colorama>=0.3.9\n",
      "  Downloading colorama-0.4.6-py2.py3-none-any.whl (25 kB)\n",
      "Requirement already satisfied: six>=1.12.0 in /opt/conda/lib/python3.7/site-packages (from asttokens>=2.0.1->icecream) (1.13.0)\n",
      "Installing collected packages: asttokens, executing, colorama, icecream\n",
      "Successfully installed asttokens-2.4.0 colorama-0.4.6 executing-2.0.0 icecream-2.1.3\n"
     ]
    }
   ],
   "source": [
    "!pip install icecream"
   ]
  },
  {
   "cell_type": "code",
   "execution_count": 116,
   "metadata": {},
   "outputs": [],
   "source": [
    "from icecream import ic"
   ]
  },
  {
   "cell_type": "code",
   "execution_count": 196,
   "metadata": {},
   "outputs": [],
   "source": [
    "def calculate_elevation_costs(perms, customers):\n",
    "    elevation_cost = np.zeros((len(st),len(st)))\n",
    "\n",
    "    locations = customers[['lat','lon']].values\n",
    "    \n",
    "    with rasterio.open('monaco.geotiff') as src:\n",
    "        for source, destination in perms:\n",
    "            \n",
    "            location1 = locations[source]\n",
    "            location2 = locations[destination]\n",
    "            lats = [location1[0], location2[0]]\n",
    "            lons = [location1[1], location2[1]]\n",
    "            \n",
    "            response = osrmbindings.route(lons, lats)\n",
    "            parsed = ujson.loads(response)\n",
    "            coords = np.array(parsed['routes'][0]['geometry']['coordinates'])\n",
    "            ys = coords[:,1]\n",
    "            xs = coords[:,0]\n",
    "            \n",
    "            ys0 = ys[0:-1]\n",
    "            ys1 = ys[1:]\n",
    "            xs0 = xs[0:-1]\n",
    "            xs1 = xs[1:]\n",
    "            rows, cols = rasterio.transform.rowcol(src.transform, xs, ys)\n",
    "\n",
    "            elevation_along_route = alt[rows,cols]\n",
    "\n",
    "            distances = haversine_np(xs0, ys0, xs1, ys1)\n",
    "            travelled = np.cumsum(distances)\n",
    "            change = np.diff(elevation_along_route/1000)/distances # meters to km, elevation change per distance unit\n",
    "\n",
    "            cost = np.max(change)\n",
    "            elevation_cost[source, destination] = cost\n",
    "        return elevation_cost"
   ]
  },
  {
   "cell_type": "code",
   "execution_count": 197,
   "metadata": {},
   "outputs": [
    {
     "name": "stdout",
     "output_type": "stream",
     "text": [
      "CPU times: user 17.7 s, sys: 0 ns, total: 17.7 s\n",
      "Wall time: 17.7 s\n"
     ]
    }
   ],
   "source": [
    "%%time\n",
    "costs = calculate_elevation_costs(perms, st)"
   ]
  },
  {
   "cell_type": "code",
   "execution_count": 150,
   "metadata": {},
   "outputs": [
    {
     "name": "stdout",
     "output_type": "stream",
     "text": [
      "649 ms ± 9.26 ms per loop (mean ± std. dev. of 7 runs, 1 loop each)\n"
     ]
    }
   ],
   "source": [
    "%%timeit\n",
    "costs = calculate_elevation_costs(perms, st)"
   ]
  },
  {
   "cell_type": "code",
   "execution_count": 211,
   "metadata": {},
   "outputs": [
    {
     "data": {
      "text/plain": [
       "<matplotlib.image.AxesImage at 0x7f27d8c646d0>"
      ]
     },
     "execution_count": 211,
     "metadata": {},
     "output_type": "execute_result"
    },
    {
     "data": {
      "image/png": "[encoded data removed]",
      "text/plain": [
       "<Figure size 640x480 with 1 Axes>"
      ]
     },
     "metadata": {},
     "output_type": "display_data"
    }
   ],
   "source": [
    "pyplot.imshow(costs)"
   ]
  },
  {
   "cell_type": "code",
   "execution_count": 213,
   "metadata": {},
   "outputs": [],
   "source": [
    "np.save('elevation.costs.npy', costs)"
   ]
  },
  {
   "cell_type": "code",
   "execution_count": null,
   "metadata": {},
   "outputs": [],
   "source": []
  },
  {
   "cell_type": "code",
   "execution_count": null,
   "metadata": {},
   "outputs": [],
   "source": []
  },
  {
   "cell_type": "code",
   "execution_count": null,
   "metadata": {},
   "outputs": [],
   "source": []
  },
  {
   "cell_type": "code",
   "execution_count": 30,
   "metadata": {},
   "outputs": [
    {
     "name": "stdout",
     "output_type": "stream",
     "text": [
      "Collecting line_profiler\n",
      "  Downloading line_profiler-4.1.1-cp37-cp37m-manylinux_2_17_x86_64.manylinux2014_x86_64.whl (675 kB)\n",
      "\u001b[K     |████████████████████████████████| 675 kB 7.5 MB/s eta 0:00:01\n",
      "\u001b[?25hInstalling collected packages: line-profiler\n",
      "Successfully installed line-profiler-4.1.1\n"
     ]
    }
   ],
   "source": [
    "!pip install line_profiler"
   ]
  },
  {
   "cell_type": "code",
   "execution_count": 31,
   "metadata": {},
   "outputs": [],
   "source": [
    "%load_ext line_profiler"
   ]
  },
  {
   "cell_type": "code",
   "execution_count": 184,
   "metadata": {},
   "outputs": [],
   "source": [
    "%lprun -f calculate_elevation_costs calculate_elevation_costs(perms, st)"
   ]
  },
  {
   "cell_type": "code",
   "execution_count": null,
   "metadata": {},
   "outputs": [],
   "source": []
  },
  {
   "cell_type": "code",
   "execution_count": null,
   "metadata": {},
   "outputs": [],
   "source": []
  },
  {
   "cell_type": "code",
   "execution_count": null,
   "metadata": {},
   "outputs": [],
   "source": []
  },
  {
   "cell_type": "code",
   "execution_count": null,
   "metadata": {},
   "outputs": [],
   "source": [
    "%load_ext autoreload\n",
    "%autoreload 2"
   ]
  },
  {
   "cell_type": "code",
   "execution_count": null,
   "metadata": {},
   "outputs": [],
   "source": [
    "import sys\n",
    "import json\n",
    "import argparse\n",
    "import time\n",
    "\n",
    "import build_time_dist_matrix\n",
    "import optimization\n",
    "import visualization\n",
    "import schedule\n",
    "import upload_results\n",
    "import manual_viz\n",
    "\n",
    "\n",
    "\n",
    "with open('data/config.json', 'r') as opened:\n",
    "    config = json.load(opened)"
   ]
  },
  {
   "cell_type": "code",
   "execution_count": null,
   "metadata": {},
   "outputs": [],
   "source": [
    "\n",
    "    \n",
    "print(' *   Building Time/Distance Matrices')\n",
    "#check if node_loader_options are specified\n",
    "if 'node_loader_options' in config.keys():\n",
    "    node_data = build_time_dist_matrix.process_nodes(config['node_loader_options'], config['zone_configs'])\n",
    "else:\n",
    "    node_data = build_time_dist_matrix.process_nodes()\n",
    "\n",
    "print(f' *   Starting Model Run at {time.strftime(\"%H:%M:%S\")} (UTC)')\n",
    "\n",
    "routes_for_mapping_viz, vehicles_viz, zone_route_map = optimization.main(node_data, config)\n",
    "\n",
    "visualization.main(routes_for_mapping_viz, vehicles_viz, zone_route_map)\n",
    "\n"
   ]
  },
  {
   "cell_type": "code",
   "execution_count": null,
   "metadata": {},
   "outputs": [],
   "source": [
    "import datetime\n",
    "import matplotlib\n",
    "from matplotlib import pyplot\n",
    "import numpy as np\n",
    "import pandas as pd"
   ]
  },
  {
   "cell_type": "code",
   "execution_count": null,
   "metadata": {},
   "outputs": [],
   "source": [
    "pyplot.rcParams[\"figure.figsize\"] = [3,7]\n",
    "for route in route_dict:\n",
    "    distances = [0]+route_dict[route]['current_distance'][:-1]\n",
    "    times = route_dict[route]['time']\n",
    "    distances = np.array(distances).cumsum()\n",
    "    times = np.array(times)\n",
    "\n",
    "    y_ticks = [f'{name} - {datetime.timedelta(seconds=float(one_time))}' for one_time,name in zip(times,route_dict[route]['current_names'])]\n",
    "    pyplot.yticks(ticks=times, labels=y_ticks)\n",
    "    pyplot.plot(distances, times, marker='o')\n",
    "    pyplot.show()"
   ]
  },
  {
   "cell_type": "code",
   "execution_count": null,
   "metadata": {},
   "outputs": [],
   "source": []
  },
  {
   "cell_type": "code",
   "execution_count": null,
   "metadata": {},
   "outputs": [],
   "source": [
    "pyplot.rcParams[\"figure.figsize\"] = [3,7]\n",
    "for route in route_dict:\n",
    "    distances = pd.Series(route_dict[route]['travel_time']).shift(1).values[1:]\n",
    "    times = pd.Series(route_dict[route]['time']).diff()[1:]-150\n",
    "    times = (times-distances)\n",
    "    times = [int(t) for t in times]\n",
    "    #distances = np.array(distances).cumsum()\n",
    "    times = np.array(times)\n",
    "\n",
    "    y_ticks = [f'{name[0]} to {name[1]} - {datetime.timedelta(seconds=float(one_time))}' for one_time,name in zip(times,zip(route_dict[route]['current_names'], route_dict[route]['next_names']))]\n",
    "    pyplot.yticks(ticks=times, labels=y_ticks)\n",
    "    pyplot.plot(times, marker='o')\n",
    "    #pyplot.plot(distances, marker='o')\n",
    "    pyplot.show()"
   ]
  }
 ],
 "metadata": {
  "kernelspec": {
   "display_name": "Python 3 (ipykernel)",
   "language": "python",
   "name": "python3"
  },
  "language_info": {
   "codemirror_mode": {
    "name": "ipython",
    "version": 3
   },
   "file_extension": ".py",
   "mimetype": "text/x-python",
   "name": "python",
   "nbconvert_exporter": "python",
   "pygments_lexer": "ipython3",
   "version": "3.7.7"
  }
 },
 "nbformat": 4,
 "nbformat_minor": 2
}
